{
 "cells": [
  {
   "cell_type": "code",
   "execution_count": 5,
   "metadata": {},
   "outputs": [],
   "source": [
    "import matplotlib.animation as animation\n",
    "import matplotlib.pyplot as plt\n",
    "import numpy as np\n",
    "from IPython.display import clear_output\n",
    "import pandas as pd\n",
    "from repast4py import parameters\n"
   ]
  },
  {
   "cell_type": "code",
   "execution_count": 6,
   "metadata": {},
   "outputs": [],
   "source": [
    "import numpy as np\n",
    "import matplotlib.pyplot as plt\n",
    "from matplotlib.colors import LinearSegmentedColormap\n",
    "\n",
    "# Define colors for the colormap\n",
    "colors = [(1, 1, 1), (0, 0, 1)]  # White (0) to Blue (1)\n",
    "\n",
    "# Create the colormap\n",
    "cmap_name = 'white_blue'\n",
    "cm = LinearSegmentedColormap.from_list(cmap_name, colors)"
   ]
  },
  {
   "cell_type": "code",
   "execution_count": 25,
   "metadata": {},
   "outputs": [],
   "source": [
    "from scipy.signal import correlate2d\n",
    "\n",
    "class Animator:\n",
    "    \"\"\"\n",
    "    Class for animating the model. Takes a log (.csv) and uses the x,y\n",
    "    coordinates of agents to chart movement over time.\n",
    "    \"\"\"\n",
    "\n",
    "    def __init__(self, csv=\"out/agent_log.csv\"):\n",
    "        # Read csv file into a Pandas DataFrame\n",
    "        self.df = pd.read_csv(csv)\n",
    "        self.leftoff = 0\n",
    "        self.iters_per_tick = (self.df['tick'] - .0000000000000000001 < 1.1).sum()\n",
    "\n",
    "        params = params = {\n",
    "                            'world.height': 886, # m\n",
    "                            'world.width': 886,  # m\n",
    "                            'stop.at': 3600,     # ticks, representing 12 hours\n",
    "                            'squad.count': 80,\n",
    "                            'meet_log_file': './out/meet_log.csv',\n",
    "                            'agent_log_file': './out/agent_log.csv',\n",
    "                            'InfectionRegion.height': 25,\n",
    "                            'InfectionRegion.width': 25\n",
    "                            }\n",
    "        self.rows = params[\"world.height\"]\n",
    "        self.cols = params[\"world.width\"]\n",
    "        self.grid = np.zeros((self.rows, self.cols))\n",
    "        self.rgrid = self.grid\n",
    "        # Set the initial state of the grid\n",
    "        for _, row in self.df.iterrows():\n",
    "            if (\n",
    "                int(row[\"tick\"]) < 0.2\n",
    "            ):  # check if it's close to 0, but not bigger than 1\n",
    "                self.grid[int(row[\"x\"])][int(row[\"y\"])] = 1\n",
    "                self.leftoff += 1\n",
    "\n",
    "    def reset_grid(self):\n",
    "        self.grid = np.zeros((self.rows, self.cols))\n",
    "\n",
    "    def step(self):\n",
    "        self.reset_grid()\n",
    "        self.leftoff += 1\n",
    "        cur_tick = self.df.iloc[self.leftoff]['tick']\n",
    "        count = 0\n",
    "        for idx in range(round(cur_tick), round(cur_tick) + self.iters_per_tick):\n",
    "            count += 1\n",
    "            row = self.df.iloc[idx]\n",
    "            self.grid[int(row[\"x\"])][int(row[\"y\"])] = 1\n",
    "            self.leftoff += 1\n",
    "\n",
    "        if count > 320:\n",
    "            print('count > 320, bug')\n",
    "\n",
    "    def draw(self, lims=[0, 886, 0, 886]):\n",
    "        \"\"\"\n",
    "        Draw the grid at one tick\n",
    "        \"\"\"\n",
    "        options = dict(\n",
    "            cmap=cm,\n",
    "            extent=[0, self.rows, 0, self.cols],\n",
    "            interpolation=\"none\",\n",
    "            origin=\"upper\",\n",
    "            alpha=0.7,\n",
    "        )\n",
    "        plt.axis([0, self.rows, 0, self.cols]) # whole space\n",
    "        plt.xlim(lims[0], lims[1]) # magnify x\n",
    "        plt.ylim(lims[2], lims[3]) # magnify y\n",
    "        plt.xticks([])\n",
    "        plt.yticks([])\n",
    "        plt.imshow(self.grid, **options)\n",
    "\n",
    "    def make_repr(self):\n",
    "        # Find indices of ones in the array\n",
    "        self.rgrid = self.grid \n",
    "        one_indices = np.argwhere(self.grid == 1)\n",
    "        \n",
    "        # # Pad the array to handle edge cases\n",
    "        # padded_arr = np.pad(self.grid, [(1, 1), (1, 1)], mode='constant')\n",
    "        \n",
    "        # # Convolve with the kernel\n",
    "        # result = correlate2d(padded_arr, self.kernel, mode='same')\n",
    "        \n",
    "        # Replace the values around ones with 1\n",
    "        for i, j in one_indices:\n",
    "            self.rgrid[i:i+3, j:j+3] = 1\n",
    "        \n",
    "        pass\n",
    "\n",
    "    def animate(self, frames: int):\n",
    "        \"\"\"\n",
    "        Animate the ACO optimization for the given number of frames\n",
    "\n",
    "        Args:\n",
    "        frames: an int, the number of frames to animate\n",
    "        \"\"\"\n",
    "        plt.figure()\n",
    "        try:\n",
    "            for i in range(frames - 1):\n",
    "                self.draw(lims=[0, 100, 0, 100])\n",
    "                plt.show()\n",
    "                self.step()\n",
    "                # self.rgrid = self.make_repr()\n",
    "                # print(self.rgrid)\n",
    "                clear_output(wait=True)\n",
    "            self.draw(lims=[0, 100, 0, 100])\n",
    "            plt.show()\n",
    "        except KeyboardInterrupt:\n",
    "            pass"
   ]
  },
  {
   "cell_type": "code",
   "execution_count": 26,
   "metadata": {},
   "outputs": [],
   "source": [
    "params = {\n",
    "    'world.height': 886, # m\n",
    "    'world.width': 886,  # m\n",
    "    'stop.at': 3600,     # ticks, representing 12 hours\n",
    "    'squad.count': 80,\n",
    "    'meet_log_file': './out/meet_log.csv',\n",
    "    'agent_log_file': './out/agent_log.csv',\n",
    "    'InfectionRegion.height': 25,\n",
    "    'InfectionRegion.width': 25\n",
    "    }"
   ]
  },
  {
   "cell_type": "code",
   "execution_count": 27,
   "metadata": {},
   "outputs": [
    {
     "data": {
      "image/png": "[encoded data removed]",
      "text/plain": [
       "<Figure size 640x480 with 1 Axes>"
      ]
     },
     "metadata": {},
     "output_type": "display_data"
    }
   ],
   "source": [
    "a = Animator()\n",
    "a.animate(300)"
   ]
  },
  {
   "cell_type": "code",
   "execution_count": 15,
   "metadata": {},
   "outputs": [
    {
     "name": "stdout",
     "output_type": "stream",
     "text": [
      "320\n"
     ]
    }
   ],
   "source": [
    "print(a.iters_per_tick)"
   ]
  },
  {
   "cell_type": "code",
   "execution_count": null,
   "metadata": {},
   "outputs": [],
   "source": []
  }
 ],
 "metadata": {
  "kernelspec": {
   "display_name": "Python 3 (ipykernel)",
   "language": "python",
   "name": "python3"
  },
  "language_info": {
   "codemirror_mode": {
    "name": "ipython",
    "version": 3
   },
   "file_extension": ".py",
   "mimetype": "text/x-python",
   "name": "python",
   "nbconvert_exporter": "python",
   "pygments_lexer": "ipython3",
   "version": "3.11.8"
  }
 },
 "nbformat": 4,
 "nbformat_minor": 4
}
