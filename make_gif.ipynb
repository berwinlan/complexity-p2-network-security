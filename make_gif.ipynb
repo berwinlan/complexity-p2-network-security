{
 "cells": [
  {
   "cell_type": "code",
   "execution_count": 37,
   "metadata": {},
   "outputs": [
    {
     "name": "stdout",
     "output_type": "stream",
     "text": [
      "['code/steps/walk/walk_0.png', 'code/steps/walk/walk_1.png', 'code/steps/walk/walk_2.png', 'code/steps/walk/walk_3.png', 'code/steps/walk/walk_4.png', 'code/steps/walk/walk_5.png', 'code/steps/walk/walk_6.png', 'code/steps/walk/walk_7.png', 'code/steps/walk/walk_8.png', 'code/steps/walk/walk_9.png', 'code/steps/walk/walk_10.png', 'code/steps/walk/walk_11.png', 'code/steps/walk/walk_12.png', 'code/steps/walk/walk_13.png', 'code/steps/walk/walk_14.png', 'code/steps/walk/walk_15.png', 'code/steps/walk/walk_16.png', 'code/steps/walk/walk_17.png', 'code/steps/walk/walk_18.png', 'code/steps/walk/walk_19.png', 'code/steps/walk/walk_20.png', 'code/steps/walk/walk_21.png', 'code/steps/walk/walk_22.png', 'code/steps/walk/walk_23.png', 'code/steps/walk/walk_24.png', 'code/steps/walk/walk_25.png', 'code/steps/walk/walk_26.png', 'code/steps/walk/walk_27.png', 'code/steps/walk/walk_28.png', 'code/steps/walk/walk_29.png', 'code/steps/walk/walk_30.png', 'code/steps/walk/walk_31.png', 'code/steps/walk/walk_32.png', 'code/steps/walk/walk_33.png', 'code/steps/walk/walk_34.png', 'code/steps/walk/walk_35.png', 'code/steps/walk/walk_36.png', 'code/steps/walk/walk_37.png', 'code/steps/walk/walk_38.png', 'code/steps/walk/walk_39.png', 'code/steps/walk/walk_40.png', 'code/steps/walk/walk_41.png', 'code/steps/walk/walk_42.png', 'code/steps/walk/walk_43.png', 'code/steps/walk/walk_44.png', 'code/steps/walk/walk_45.png', 'code/steps/walk/walk_46.png', 'code/steps/walk/walk_47.png', 'code/steps/walk/walk_48.png', 'code/steps/walk/walk_49.png', 'code/steps/walk/walk_50.png', 'code/steps/walk/walk_51.png', 'code/steps/walk/walk_52.png', 'code/steps/walk/walk_53.png', 'code/steps/walk/walk_54.png', 'code/steps/walk/walk_55.png', 'code/steps/walk/walk_56.png', 'code/steps/walk/walk_57.png', 'code/steps/walk/walk_58.png', 'code/steps/walk/walk_59.png', 'code/steps/walk/walk_60.png', 'code/steps/walk/walk_61.png', 'code/steps/walk/walk_62.png', 'code/steps/walk/walk_63.png', 'code/steps/walk/walk_64.png', 'code/steps/walk/walk_65.png', 'code/steps/walk/walk_66.png', 'code/steps/walk/walk_67.png', 'code/steps/walk/walk_68.png', 'code/steps/walk/walk_69.png', 'code/steps/walk/walk_70.png', 'code/steps/walk/walk_71.png', 'code/steps/walk/walk_72.png', 'code/steps/walk/walk_73.png', 'code/steps/walk/walk_74.png', 'code/steps/walk/walk_75.png', 'code/steps/walk/walk_76.png', 'code/steps/walk/walk_77.png', 'code/steps/walk/walk_78.png', 'code/steps/walk/walk_79.png', 'code/steps/walk/walk_80.png', 'code/steps/walk/walk_81.png', 'code/steps/walk/walk_82.png', 'code/steps/walk/walk_83.png', 'code/steps/walk/walk_84.png', 'code/steps/walk/walk_85.png', 'code/steps/walk/walk_86.png', 'code/steps/walk/walk_87.png', 'code/steps/walk/walk_88.png', 'code/steps/walk/walk_89.png', 'code/steps/walk/walk_90.png', 'code/steps/walk/walk_91.png', 'code/steps/walk/walk_92.png', 'code/steps/walk/walk_93.png', 'code/steps/walk/walk_94.png', 'code/steps/walk/walk_95.png', 'code/steps/walk/walk_96.png', 'code/steps/walk/walk_97.png', 'code/steps/walk/walk_98.png', 'code/steps/walk/walk_99.png', 'code/steps/walk/walk_100.png', 'code/steps/walk/walk_101.png', 'code/steps/walk/walk_102.png', 'code/steps/walk/walk_103.png', 'code/steps/walk/walk_104.png', 'code/steps/walk/walk_105.png', 'code/steps/walk/walk_106.png', 'code/steps/walk/walk_107.png', 'code/steps/walk/walk_108.png', 'code/steps/walk/walk_109.png', 'code/steps/walk/walk_110.png', 'code/steps/walk/walk_111.png', 'code/steps/walk/walk_112.png', 'code/steps/walk/walk_113.png', 'code/steps/walk/walk_114.png', 'code/steps/walk/walk_115.png', 'code/steps/walk/walk_116.png', 'code/steps/walk/walk_117.png', 'code/steps/walk/walk_118.png', 'code/steps/walk/walk_119.png', 'code/steps/walk/walk_120.png', 'code/steps/walk/walk_121.png', 'code/steps/walk/walk_122.png', 'code/steps/walk/walk_123.png', 'code/steps/walk/walk_124.png', 'code/steps/walk/walk_125.png', 'code/steps/walk/walk_126.png', 'code/steps/walk/walk_127.png', 'code/steps/walk/walk_128.png', 'code/steps/walk/walk_129.png', 'code/steps/walk/walk_130.png', 'code/steps/walk/walk_131.png', 'code/steps/walk/walk_132.png', 'code/steps/walk/walk_133.png', 'code/steps/walk/walk_134.png', 'code/steps/walk/walk_135.png', 'code/steps/walk/walk_136.png', 'code/steps/walk/walk_137.png', 'code/steps/walk/walk_138.png', 'code/steps/walk/walk_139.png', 'code/steps/walk/walk_140.png', 'code/steps/walk/walk_141.png', 'code/steps/walk/walk_142.png', 'code/steps/walk/walk_143.png', 'code/steps/walk/walk_144.png', 'code/steps/walk/walk_145.png', 'code/steps/walk/walk_146.png', 'code/steps/walk/walk_147.png', 'code/steps/walk/walk_148.png', 'code/steps/walk/walk_149.png', 'code/steps/walk/walk_150.png', 'code/steps/walk/walk_151.png', 'code/steps/walk/walk_152.png', 'code/steps/walk/walk_153.png', 'code/steps/walk/walk_154.png', 'code/steps/walk/walk_155.png', 'code/steps/walk/walk_156.png', 'code/steps/walk/walk_157.png', 'code/steps/walk/walk_158.png', 'code/steps/walk/walk_159.png', 'code/steps/walk/walk_160.png', 'code/steps/walk/walk_161.png', 'code/steps/walk/walk_162.png', 'code/steps/walk/walk_163.png', 'code/steps/walk/walk_164.png', 'code/steps/walk/walk_165.png', 'code/steps/walk/walk_166.png', 'code/steps/walk/walk_167.png', 'code/steps/walk/walk_168.png', 'code/steps/walk/walk_169.png', 'code/steps/walk/walk_170.png', 'code/steps/walk/walk_171.png', 'code/steps/walk/walk_172.png', 'code/steps/walk/walk_173.png', 'code/steps/walk/walk_174.png', 'code/steps/walk/walk_175.png', 'code/steps/walk/walk_176.png', 'code/steps/walk/walk_177.png', 'code/steps/walk/walk_178.png', 'code/steps/walk/walk_179.png', 'code/steps/walk/walk_180.png', 'code/steps/walk/walk_181.png', 'code/steps/walk/walk_182.png', 'code/steps/walk/walk_183.png', 'code/steps/walk/walk_184.png', 'code/steps/walk/walk_185.png', 'code/steps/walk/walk_186.png', 'code/steps/walk/walk_187.png', 'code/steps/walk/walk_188.png', 'code/steps/walk/walk_189.png', 'code/steps/walk/walk_190.png', 'code/steps/walk/walk_191.png', 'code/steps/walk/walk_192.png', 'code/steps/walk/walk_193.png', 'code/steps/walk/walk_194.png', 'code/steps/walk/walk_195.png', 'code/steps/walk/walk_196.png', 'code/steps/walk/walk_197.png', 'code/steps/walk/walk_198.png', 'code/steps/walk/walk_199.png', 'code/steps/walk/walk_200.png', 'code/steps/walk/walk_201.png', 'code/steps/walk/walk_202.png', 'code/steps/walk/walk_203.png', 'code/steps/walk/walk_204.png', 'code/steps/walk/walk_205.png', 'code/steps/walk/walk_206.png', 'code/steps/walk/walk_207.png', 'code/steps/walk/walk_208.png', 'code/steps/walk/walk_209.png', 'code/steps/walk/walk_210.png', 'code/steps/walk/walk_211.png', 'code/steps/walk/walk_212.png', 'code/steps/walk/walk_213.png', 'code/steps/walk/walk_214.png', 'code/steps/walk/walk_215.png', 'code/steps/walk/walk_216.png', 'code/steps/walk/walk_217.png', 'code/steps/walk/walk_218.png', 'code/steps/walk/walk_219.png', 'code/steps/walk/walk_220.png', 'code/steps/walk/walk_221.png', 'code/steps/walk/walk_222.png', 'code/steps/walk/walk_223.png', 'code/steps/walk/walk_224.png', 'code/steps/walk/walk_225.png', 'code/steps/walk/walk_226.png', 'code/steps/walk/walk_227.png', 'code/steps/walk/walk_228.png', 'code/steps/walk/walk_229.png', 'code/steps/walk/walk_230.png', 'code/steps/walk/walk_231.png', 'code/steps/walk/walk_232.png', 'code/steps/walk/walk_233.png', 'code/steps/walk/walk_234.png', 'code/steps/walk/walk_235.png', 'code/steps/walk/walk_236.png', 'code/steps/walk/walk_237.png', 'code/steps/walk/walk_238.png', 'code/steps/walk/walk_239.png', 'code/steps/walk/walk_240.png', 'code/steps/walk/walk_241.png', 'code/steps/walk/walk_242.png', 'code/steps/walk/walk_243.png', 'code/steps/walk/walk_244.png', 'code/steps/walk/walk_245.png', 'code/steps/walk/walk_246.png', 'code/steps/walk/walk_247.png', 'code/steps/walk/walk_248.png', 'code/steps/walk/walk_249.png', 'code/steps/walk/walk_250.png', 'code/steps/walk/walk_251.png', 'code/steps/walk/walk_252.png', 'code/steps/walk/walk_253.png', 'code/steps/walk/walk_254.png', 'code/steps/walk/walk_255.png', 'code/steps/walk/walk_256.png', 'code/steps/walk/walk_257.png', 'code/steps/walk/walk_258.png', 'code/steps/walk/walk_259.png', 'code/steps/walk/walk_260.png', 'code/steps/walk/walk_261.png', 'code/steps/walk/walk_262.png', 'code/steps/walk/walk_263.png', 'code/steps/walk/walk_264.png', 'code/steps/walk/walk_265.png', 'code/steps/walk/walk_266.png', 'code/steps/walk/walk_267.png', 'code/steps/walk/walk_268.png', 'code/steps/walk/walk_269.png', 'code/steps/walk/walk_270.png', 'code/steps/walk/walk_271.png', 'code/steps/walk/walk_272.png', 'code/steps/walk/walk_273.png', 'code/steps/walk/walk_274.png', 'code/steps/walk/walk_275.png', 'code/steps/walk/walk_276.png', 'code/steps/walk/walk_277.png', 'code/steps/walk/walk_278.png', 'code/steps/walk/walk_279.png', 'code/steps/walk/walk_280.png', 'code/steps/walk/walk_281.png', 'code/steps/walk/walk_282.png', 'code/steps/walk/walk_283.png', 'code/steps/walk/walk_284.png', 'code/steps/walk/walk_285.png', 'code/steps/walk/walk_286.png', 'code/steps/walk/walk_287.png', 'code/steps/walk/walk_288.png', 'code/steps/walk/walk_289.png', 'code/steps/walk/walk_290.png', 'code/steps/walk/walk_291.png', 'code/steps/walk/walk_292.png', 'code/steps/walk/walk_293.png', 'code/steps/walk/walk_294.png', 'code/steps/walk/walk_295.png', 'code/steps/walk/walk_296.png', 'code/steps/walk/walk_297.png', 'code/steps/walk/walk_298.png', 'code/steps/walk/walk_299.png', 'code/steps/walk/walk_300.png', 'code/steps/walk/walk_301.png', 'code/steps/walk/walk_302.png', 'code/steps/walk/walk_303.png', 'code/steps/walk/walk_304.png', 'code/steps/walk/walk_305.png', 'code/steps/walk/walk_306.png', 'code/steps/walk/walk_307.png', 'code/steps/walk/walk_308.png', 'code/steps/walk/walk_309.png', 'code/steps/walk/walk_310.png', 'code/steps/walk/walk_311.png', 'code/steps/walk/walk_312.png', 'code/steps/walk/walk_313.png', 'code/steps/walk/walk_314.png', 'code/steps/walk/walk_315.png', 'code/steps/walk/walk_316.png', 'code/steps/walk/walk_317.png', 'code/steps/walk/walk_318.png', 'code/steps/walk/walk_319.png', 'code/steps/walk/walk_320.png', 'code/steps/walk/walk_321.png', 'code/steps/walk/walk_322.png', 'code/steps/walk/walk_323.png', 'code/steps/walk/walk_324.png', 'code/steps/walk/walk_325.png', 'code/steps/walk/walk_326.png', 'code/steps/walk/walk_327.png', 'code/steps/walk/walk_328.png', 'code/steps/walk/walk_329.png', 'code/steps/walk/walk_330.png', 'code/steps/walk/walk_331.png', 'code/steps/walk/walk_332.png', 'code/steps/walk/walk_333.png', 'code/steps/walk/walk_334.png', 'code/steps/walk/walk_335.png', 'code/steps/walk/walk_336.png', 'code/steps/walk/walk_337.png', 'code/steps/walk/walk_338.png', 'code/steps/walk/walk_339.png', 'code/steps/walk/walk_340.png', 'code/steps/walk/walk_341.png', 'code/steps/walk/walk_342.png', 'code/steps/walk/walk_343.png', 'code/steps/walk/walk_344.png', 'code/steps/walk/walk_345.png', 'code/steps/walk/walk_346.png', 'code/steps/walk/walk_347.png', 'code/steps/walk/walk_348.png', 'code/steps/walk/walk_349.png', 'code/steps/walk/walk_350.png', 'code/steps/walk/walk_351.png', 'code/steps/walk/walk_352.png', 'code/steps/walk/walk_353.png', 'code/steps/walk/walk_354.png', 'code/steps/walk/walk_355.png', 'code/steps/walk/walk_356.png', 'code/steps/walk/walk_357.png', 'code/steps/walk/walk_358.png', 'code/steps/walk/walk_359.png', 'code/steps/walk/walk_360.png', 'code/steps/walk/walk_361.png', 'code/steps/walk/walk_362.png', 'code/steps/walk/walk_363.png', 'code/steps/walk/walk_364.png', 'code/steps/walk/walk_365.png', 'code/steps/walk/walk_366.png', 'code/steps/walk/walk_367.png', 'code/steps/walk/walk_368.png', 'code/steps/walk/walk_369.png', 'code/steps/walk/walk_370.png', 'code/steps/walk/walk_371.png', 'code/steps/walk/walk_372.png', 'code/steps/walk/walk_373.png', 'code/steps/walk/walk_374.png', 'code/steps/walk/walk_375.png', 'code/steps/walk/walk_376.png', 'code/steps/walk/walk_377.png', 'code/steps/walk/walk_378.png', 'code/steps/walk/walk_379.png', 'code/steps/walk/walk_380.png', 'code/steps/walk/walk_381.png', 'code/steps/walk/walk_382.png', 'code/steps/walk/walk_383.png', 'code/steps/walk/walk_384.png', 'code/steps/walk/walk_385.png', 'code/steps/walk/walk_386.png', 'code/steps/walk/walk_387.png', 'code/steps/walk/walk_388.png', 'code/steps/walk/walk_389.png', 'code/steps/walk/walk_390.png', 'code/steps/walk/walk_391.png', 'code/steps/walk/walk_392.png', 'code/steps/walk/walk_393.png', 'code/steps/walk/walk_394.png', 'code/steps/walk/walk_395.png', 'code/steps/walk/walk_396.png', 'code/steps/walk/walk_397.png', 'code/steps/walk/walk_398.png', 'code/steps/walk/walk_399.png', 'code/steps/walk/walk_400.png', 'code/steps/walk/walk_401.png', 'code/steps/walk/walk_402.png', 'code/steps/walk/walk_403.png', 'code/steps/walk/walk_404.png', 'code/steps/walk/walk_405.png', 'code/steps/walk/walk_406.png', 'code/steps/walk/walk_407.png', 'code/steps/walk/walk_408.png', 'code/steps/walk/walk_409.png', 'code/steps/walk/walk_410.png', 'code/steps/walk/walk_411.png', 'code/steps/walk/walk_412.png', 'code/steps/walk/walk_413.png', 'code/steps/walk/walk_414.png', 'code/steps/walk/walk_415.png', 'code/steps/walk/walk_416.png', 'code/steps/walk/walk_417.png', 'code/steps/walk/walk_418.png', 'code/steps/walk/walk_419.png', 'code/steps/walk/walk_420.png', 'code/steps/walk/walk_421.png', 'code/steps/walk/walk_422.png', 'code/steps/walk/walk_423.png', 'code/steps/walk/walk_424.png', 'code/steps/walk/walk_425.png', 'code/steps/walk/walk_426.png', 'code/steps/walk/walk_427.png', 'code/steps/walk/walk_428.png', 'code/steps/walk/walk_429.png', 'code/steps/walk/walk_430.png', 'code/steps/walk/walk_431.png', 'code/steps/walk/walk_432.png', 'code/steps/walk/walk_433.png', 'code/steps/walk/walk_434.png', 'code/steps/walk/walk_435.png', 'code/steps/walk/walk_436.png', 'code/steps/walk/walk_437.png', 'code/steps/walk/walk_438.png', 'code/steps/walk/walk_439.png', 'code/steps/walk/walk_440.png', 'code/steps/walk/walk_441.png', 'code/steps/walk/walk_442.png', 'code/steps/walk/walk_443.png', 'code/steps/walk/walk_444.png', 'code/steps/walk/walk_445.png', 'code/steps/walk/walk_446.png', 'code/steps/walk/walk_447.png', 'code/steps/walk/walk_448.png', 'code/steps/walk/walk_449.png', 'code/steps/walk/walk_450.png', 'code/steps/walk/walk_451.png', 'code/steps/walk/walk_452.png', 'code/steps/walk/walk_453.png', 'code/steps/walk/walk_454.png', 'code/steps/walk/walk_455.png', 'code/steps/walk/walk_456.png', 'code/steps/walk/walk_457.png', 'code/steps/walk/walk_458.png', 'code/steps/walk/walk_459.png', 'code/steps/walk/walk_460.png', 'code/steps/walk/walk_461.png', 'code/steps/walk/walk_462.png', 'code/steps/walk/walk_463.png', 'code/steps/walk/walk_464.png', 'code/steps/walk/walk_465.png', 'code/steps/walk/walk_466.png', 'code/steps/walk/walk_467.png', 'code/steps/walk/walk_468.png', 'code/steps/walk/walk_469.png', 'code/steps/walk/walk_470.png', 'code/steps/walk/walk_471.png', 'code/steps/walk/walk_472.png', 'code/steps/walk/walk_473.png', 'code/steps/walk/walk_474.png', 'code/steps/walk/walk_475.png', 'code/steps/walk/walk_476.png', 'code/steps/walk/walk_477.png', 'code/steps/walk/walk_478.png', 'code/steps/walk/walk_479.png', 'code/steps/walk/walk_480.png', 'code/steps/walk/walk_481.png', 'code/steps/walk/walk_482.png', 'code/steps/walk/walk_483.png', 'code/steps/walk/walk_484.png', 'code/steps/walk/walk_485.png', 'code/steps/walk/walk_486.png', 'code/steps/walk/walk_487.png', 'code/steps/walk/walk_488.png', 'code/steps/walk/walk_489.png', 'code/steps/walk/walk_490.png', 'code/steps/walk/walk_491.png', 'code/steps/walk/walk_492.png', 'code/steps/walk/walk_493.png', 'code/steps/walk/walk_494.png', 'code/steps/walk/walk_495.png', 'code/steps/walk/walk_496.png', 'code/steps/walk/walk_497.png', 'code/steps/walk/walk_498.png']\n"
     ]
    }
   ],
   "source": [
    "import glob\n",
    "\n",
    "files = []\n",
    "for i in range(len(glob.glob('code/steps/walk/*'))):\n",
    "    files.append(f'code/steps/walk/walk_{i}.png')\n",
    "print(files)"
   ]
  },
  {
   "cell_type": "code",
   "execution_count": 38,
   "metadata": {},
   "outputs": [
    {
     "name": "stderr",
     "output_type": "stream",
     "text": [
      "/tmp/ipykernel_15768/587557757.py:11: FutureWarning: The input object of type 'PngImageFile' is an array-like implementing one of the corresponding protocols (`__array__`, `__array_interface__` or `__array_struct__`); but not a sequence (or 0-D). In the future, this object will be coerced as if it was first converted using `np.array(obj)`. To retain the old behaviour, you have to either modify the type 'PngImageFile', or assign to an empty array created with `np.empty(correct_shape, dtype=object)`.\n",
      "  print('image_arrays shape:', np.array(image_array).shape)\n"
     ]
    },
    {
     "name": "stdout",
     "output_type": "stream",
     "text": [
      "image_arrays shape: (499,)\n"
     ]
    },
    {
     "name": "stderr",
     "output_type": "stream",
     "text": [
      "/tmp/ipykernel_15768/587557757.py:11: VisibleDeprecationWarning: Creating an ndarray from ragged nested sequences (which is a list-or-tuple of lists-or-tuples-or ndarrays with different lengths or shapes) is deprecated. If you meant to do this, you must specify 'dtype=object' when creating the ndarray.\n",
      "  print('image_arrays shape:', np.array(image_array).shape)\n"
     ]
    }
   ],
   "source": [
    "from PIL import Image\n",
    "import numpy as np\n",
    "\n",
    "image_array = []\n",
    "\n",
    "for my_file in files:\n",
    "    \n",
    "    image = Image.open(my_file)\n",
    "    image_array.append(image)\n",
    "\n",
    "print('image_arrays shape:', np.array(image_array).shape)\n",
    "\n",
    "#image_arrays shape: (29,)"
   ]
  },
  {
   "cell_type": "code",
   "execution_count": 40,
   "metadata": {},
   "outputs": [
    {
     "data": {
      "image/png": "[encoded data removed]",
      "text/plain": [
       "<Figure size 640x480 with 1 Axes>"
      ]
     },
     "metadata": {},
     "output_type": "display_data"
    }
   ],
   "source": [
    "import matplotlib.pyplot as plt\n",
    "import matplotlib.animation as animation\n",
    "\n",
    "# Create the figure and axes objects\n",
    "fig, ax = plt.subplots()\n",
    "plt.axis('off')\n",
    "# Set the initial image\n",
    "im = ax.imshow(image_array[1], animated=True)"
   ]
  },
  {
   "cell_type": "code",
   "execution_count": 30,
   "metadata": {},
   "outputs": [],
   "source": [
    "def update(i):\n",
    "    im.set_array(image_array[i])\n",
    "    return im, "
   ]
  },
  {
   "cell_type": "code",
   "execution_count": 46,
   "metadata": {},
   "outputs": [],
   "source": [
    "\n",
    "frame_one = image_array[0]\n",
    "frame_one.save(\"code/gifs/walk2.gif\", format=\"GIF\", append_images=image_array,\n",
    "               save_all=True, duration=0.5, loop=0)"
   ]
  }
 ],
 "metadata": {
  "kernelspec": {
   "display_name": ".venv",
   "language": "python",
   "name": "python3"
  },
  "language_info": {
   "codemirror_mode": {
    "name": "ipython",
    "version": 3
   },
   "file_extension": ".py",
   "mimetype": "text/x-python",
   "name": "python",
   "nbconvert_exporter": "python",
   "pygments_lexer": "ipython3",
   "version": "3.11.5"
  }
 },
 "nbformat": 4,
 "nbformat_minor": 2
}
